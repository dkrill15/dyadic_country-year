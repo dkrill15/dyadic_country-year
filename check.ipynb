{
 "cells": [
  {
   "cell_type": "code",
   "execution_count": 49,
   "metadata": {},
   "outputs": [],
   "source": [
    "import geopandas as gpd\n",
    "import plotly.graph_objects as go\n",
    "import csv\n",
    "import pandas as pd\n",
    "\n",
    "\n",
    "def read_variable_length_csv(file_path):\n",
    "    with open(file_path, newline='') as csvfile:\n",
    "        reader = csv.reader(csvfile, delimiter=',', quotechar='\"')\n",
    "        return [row for row in reader]\n",
    "\n",
    "\n",
    "file_path = 'adjacency_list.csv'\n",
    "array = read_variable_length_csv(file_path)\n",
    "max_len = max(len(row) for row in array)\n",
    "# Pad shorter rows with None (NaN in DataFrame)\n",
    "padded_array = [row + [None]*(max_len - len(row)) for row in array]\n",
    "# Convert to DataFrame\n",
    "df = pd.DataFrame(padded_array)\n",
    "\n",
    "# copy df to og_df\n",
    "\n",
    "# add column year that is the last 5 characters of the first column\n",
    "df['year'] = df[0].str[-4:]\n",
    "\n",
    "# # make 'year' the third column\n",
    "df = df[[0, 'year', 1, 2, 3, 4, 5, 6, 7, 8, 9, 10, 11, 12, 13, 14, 15, 16, 17]]\n",
    "\n",
    "# # make the first column only its first three characters\n",
    "df[0] = df[0].str[:3]\n",
    "\n",
    "# # change all NaN to 0\n",
    "df = df.fillna(0)\n",
    "\n",
    "# # group by first column\n",
    "# df = df.groupby([0, 'year'])\n",
    "\n",
    "# # sort df by year\n",
    "# df = df.apply(lambda x: x.sort_values('year'))\n",
    "\n",
    "\n",
    "og_df = df.copy()\n",
    "\n",
    "# # # delete all rows that are the same as the previous row except for the first column\n",
    "df = df.drop_duplicates(\n",
    "    subset=[1, 2, 3, 4, 5, 6, 7, 8, 9, 10, 11, 12, 13, 14, 15, 16, 17], keep='first')\n",
    "\n",
    "df = df.groupby(0, axis=0).filter(lambda x: len(x) > 1)\n",
    "\n",
    "\n"
   ]
  },
  {
   "cell_type": "code",
   "execution_count": 24,
   "metadata": {},
   "outputs": [],
   "source": [
    "# Show the resulting DataFrame\n",
    "\n",
    "# add column year that is the last 5 characters of the first column\n",
    "df['year'] = df[0].str[-4:]\n",
    "\n",
    "# # make 'year' the third column\n",
    "df = df[[0, 'year', 1, 2, 3, 4, 5, 6, 7, 8, 9, 10, 11, 12, 13, 14, 15, 16, 17]]\n",
    "\n",
    "# # make the first column only its first three characters\n",
    "df[0] = df[0].str[:3]\n",
    "\n",
    "# # change all NaN to 0\n",
    "df = df.fillna(0)\n",
    "\n",
    "# # group by first column\n",
    "# df = df.groupby([0, 'year'])\n",
    "\n",
    "# # sort df by year\n",
    "# df = df.apply(lambda x: x.sort_values('year'))\n",
    "\n",
    "# # # delete all rows that are the same as the previous row except for the first column\n",
    "df = df.drop_duplicates(subset=[1, 2, 3, 4, 5, 6, 7, 8, 9, 10, 11, 12, 13, 14, 15, 16, 17], keep='first')\n",
    "\n",
    "# # drop all rows where there is only one occurernce of the first column\n",
    "# df = df.groupby(0, axis=1).filter(lambda x: len(x) > 1)\n"
   ]
  },
  {
   "cell_type": "code",
   "execution_count": 25,
   "metadata": {},
   "outputs": [],
   "source": [
    "df = df.groupby(0, axis=0).filter(lambda x: len(x) > 1)\n"
   ]
  },
  {
   "cell_type": "code",
   "execution_count": 47,
   "metadata": {},
   "outputs": [],
   "source": [
    "og_df = og_df.fillna(0)\n",
    "\n",
    "# convert all \"\" to 0\n",
    "og_df = og_df.replace(\"\", 0)\n",
    "\n",
    "og_df = og_df[og_df[1] != 0]\n",
    "og_df[0] = og_df[0].str[:3]\n",
    "\n",
    "# count occurences of each unique value in colum n 0\n",
    "cdf = og_df.groupby(0).count()\n",
    "\n",
    "cdf = cdf[cdf[1] == max(cdf[1])]"
   ]
  },
  {
   "cell_type": "code",
   "execution_count": 48,
   "metadata": {},
   "outputs": [],
   "source": [
    "# make column 2 equal the number of cells in columns 2 to 17 that are not 0\n",
    "og_df[2] = og_df.iloc[:, 1:18].astype(bool).sum(axis=1)\n",
    "\n",
    "og_df = og_df[og_df[2] > 5]\n",
    "\n",
    "unique_countries = og_df[0].unique()"
   ]
  },
  {
   "cell_type": "code",
   "execution_count": 51,
   "metadata": {},
   "outputs": [],
   "source": [
    "unique_countries = list(og_df[0].unique())\n",
    "\n",
    "\n"
   ]
  },
  {
   "cell_type": "code",
   "execution_count": 55,
   "metadata": {},
   "outputs": [],
   "source": [
    "def read_variable_length_csv(file_path):\n",
    "    with open(file_path, newline='') as csvfile:\n",
    "        reader = csv.reader(csvfile, delimiter=',', quotechar='\"')\n",
    "        return [row for row in reader]\n",
    "\n",
    "file_path = 'adjacency_list.csv'\n",
    "array = read_variable_length_csv(file_path)\n",
    "max_len = max(len(row) for row in array)\n",
    "# Pad shorter rows with None (NaN in DataFrame)\n",
    "padded_array = [row + [None]*(max_len - len(row)) for row in array]\n",
    "# Convert to DataFrame\n",
    "df = pd.DataFrame(padded_array)\n",
    "\n",
    "# add column year that is the last 5 characters of the first column\n",
    "df['year'] = df[0].str[-4:]\n",
    "\n",
    "# # make 'year' the third column\n",
    "df = df[[0, 'year', 1, 2, 3, 4, 5, 6, 7,\n",
    "    8, 9, 10, 11, 12, 13, 14, 15, 16, 17]]\n",
    "\n",
    "# # make the first column only its first three characters\n",
    "df[0] = df[0].str[:3]\n",
    "\n",
    "# # change all NaN to 0\n",
    "df = df.fillna(0)\n",
    "\n",
    "full_df = df.copy()\n",
    "\n",
    "df = df.drop_duplicates(\n",
    "    subset=[1, 2, 3, 4, 5, 6, 7, 8, 9, 10, 11, 12, 13, 14, 15, 16, 17], keep='first')\n",
    "\n",
    "df = df.groupby(0, axis=0).filter(lambda x: len(x) > 1)\n",
    "\n",
    "\n"
   ]
  }
 ],
 "metadata": {
  "kernelspec": {
   "display_name": "Python 3",
   "language": "python",
   "name": "python3"
  },
  "language_info": {
   "codemirror_mode": {
    "name": "ipython",
    "version": 3
   },
   "file_extension": ".py",
   "mimetype": "text/x-python",
   "name": "python",
   "nbconvert_exporter": "python",
   "pygments_lexer": "ipython3",
   "version": "3.11.5 (v3.11.5:cce6ba91b3, Aug 24 2023, 10:50:31) [Clang 13.0.0 (clang-1300.0.29.30)]"
  },
  "orig_nbformat": 4,
  "vscode": {
   "interpreter": {
    "hash": "949777d72b0d2535278d3dc13498b2535136f6dfe0678499012e853ee9abcab1"
   }
  }
 },
 "nbformat": 4,
 "nbformat_minor": 2
}
